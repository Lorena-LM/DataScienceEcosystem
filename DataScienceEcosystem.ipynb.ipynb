{
 "cells": [
  {
   "cell_type": "markdown",
   "id": "845ec08f-4fef-4920-bc23-1e845e4b02c4",
   "metadata": {},
   "source": [
    "# In this notebook, Data Science Tools and Ecosystem are summarized\n"
   ]
  },
  {
   "cell_type": "markdown",
   "id": "7fc543fc-4c8c-474e-ac6f-0acc2c50477f",
   "metadata": {
    "tags": []
   },
   "source": [
    " Some of the popular languages that Data Scientists use are:\n",
    "\n",
    "Ordered list:\n",
    "1. Python\n",
    "2. R\n",
    "3. SQL\n",
    "4. Julia\n",
    "5. Scala\n"
   ]
  },
  {
   "cell_type": "markdown",
   "id": "8ec64b77-a9e1-47c9-b660-56e288936aab",
   "metadata": {},
   "source": [
    "**Objectives:**\n",
    "\n",
    "- List popular languages for Data Science.\n",
    "- Describe commonly used libraries in Data Science.\n",
    "- Demonstrate examples of arithmetic expressions in Python.\n",
    "- Convert units of time in Python (e.g., minutes to hours).\n",
    "- Explore different open-source tools used in Data Science."
   ]
  },
  {
   "cell_type": "markdown",
   "id": "6af0ea3e-7c98-4fc3-a2c9-81c8cdbbc5de",
   "metadata": {},
   "source": [
    "Some of the commonly used libraries used by Data Scientists include:\n",
    "\n",
    "1. Pandas\n",
    "2. NumPy\n",
    "3. Scikit-learn\n",
    "4. Matplotlib\n",
    "5. TensorFlow"
   ]
  },
  {
   "cell_type": "markdown",
   "id": "adeb3988-b995-4e7c-9b60-746a9e80b923",
   "metadata": {},
   "source": [
    "### Below are a few examples of evaluating arithmetic expressions in Python\n",
    "\n",
    "- `3 + 5` results in `8`\n",
    "- `10 - 2` results in `8`\n",
    "- `4 * 6` results in `24`\n",
    "- `8 / 2` results in `4.0`"
   ]
  },
  {
   "cell_type": "markdown",
   "id": "9ed8c6c3-4483-4f65-a64d-e51812cd6b38",
   "metadata": {},
   "source": [
    "| Data Science Tools       |\n",
    "|--------------------------|\n",
    "| Jupyter Notebook         |\n",
    "| RStudio                  |\n",
    "| Apache Zeppelin          |"
   ]
  },
  {
   "cell_type": "markdown",
   "id": "fe2b5a78-3715-4a44-812f-011db4de1903",
   "metadata": {},
   "source": [
    "# This is a simple arithmetic expression to multiply then add integers\n"
   ]
  },
  {
   "cell_type": "code",
   "execution_count": 12,
   "id": "4b5f95bb-5a6b-4ace-aab8-2535b8ac9aaa",
   "metadata": {
    "tags": []
   },
   "outputs": [
    {
     "data": {
      "text/plain": [
       "17"
      ]
     },
     "execution_count": 12,
     "metadata": {},
     "output_type": "execute_result"
    }
   ],
   "source": [
    "(3 * 4) + 5"
   ]
  },
  {
   "cell_type": "markdown",
   "id": "ad7490ee-93b5-42b8-b04d-110629743991",
   "metadata": {
    "tags": []
   },
   "source": [
    "# This will convert 200 minutes to hours by dividing by 60"
   ]
  },
  {
   "cell_type": "code",
   "execution_count": 14,
   "id": "c111bef4-199b-4949-bd42-61fa92a8c2d4",
   "metadata": {
    "tags": []
   },
   "outputs": [
    {
     "data": {
      "text/plain": [
       "3.3333333333333335"
      ]
     },
     "execution_count": 14,
     "metadata": {},
     "output_type": "execute_result"
    }
   ],
   "source": [
    "200 / 60"
   ]
  },
  {
   "cell_type": "markdown",
   "id": "6ba4f270-0d23-4d85-ad9b-804a622347c0",
   "metadata": {},
   "source": [
    "## Author\n",
    "\n",
    "Lorena Linares Martínez "
   ]
  },
  {
   "cell_type": "code",
   "execution_count": null,
   "id": "2adf49bd-73f0-4a6a-8ba5-8465c2097a59",
   "metadata": {},
   "outputs": [],
   "source": []
  }
 ],
 "metadata": {
  "kernelspec": {
   "display_name": "",
   "name": ""
  },
  "language_info": {
   "name": ""
  }
 },
 "nbformat": 4,
 "nbformat_minor": 5
}
